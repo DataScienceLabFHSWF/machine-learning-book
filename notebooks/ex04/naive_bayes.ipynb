{
 "cells": [
  {
   "cell_type": "markdown",
   "id": "c02262e5",
   "metadata": {},
   "source": [
    "# Applications of the Naive Bayes classifier"
   ]
  },
  {
   "cell_type": "markdown",
   "id": "6a33406a",
   "metadata": {},
   "source": [
    "## Task 1\n",
    "The _Naive Bayes_ classifier is often used when it comes to the classification of textual data but can also be used for any other classification task. The underlying math comes from the _Bayes theorem_ which describes the probability of an event based on a _prior_. This prior represents the knowledge of different conditions and thus often allows for a more accurate prediction.  \n",
    "As we will use the classifier on text data, we first take a quick look/recap at useful preprocessing techniques for _Natural Language Processing_ (NLP) as you will need these to solve the task at hand."
   ]
  },
  {
   "cell_type": "code",
   "execution_count": null,
   "id": "fe19cb62",
   "metadata": {},
   "outputs": [],
   "source": [
    "import numpy as np\n",
    "import pandas as pd\n",
    "import matplotlib.pyplot as plt\n",
    "import seaborn as sns"
   ]
  },
  {
   "cell_type": "markdown",
   "id": "abe3eb76",
   "metadata": {},
   "source": [
    "### Remove punctuation\n",
    "#### List comprehension\n",
    "There are different techniques to remove punctuation from our data. The first uses the _string_ library and a list comprehension."
   ]
  },
  {
   "cell_type": "code",
   "execution_count": null,
   "id": "23f4759f",
   "metadata": {},
   "outputs": [],
   "source": [
    "import string\n",
    "\n",
    "print(string.punctuation)\n",
    "\n",
    "s = (\"This is a test text to show off some of the relevant preprocessing techniques for NLP problems. These include the removal of punctuation, the conversion to lower case as well as the removal of stopwords.\")\n",
    "\n",
    "s_wo_punct = [c for c in s if c not in string.punctuation]\n",
    "s_wo_punct"
   ]
  },
  {
   "cell_type": "code",
   "execution_count": null,
   "id": "8ab802bb",
   "metadata": {},
   "outputs": [],
   "source": [
    "s_wo_punct = \"\".join(s_wo_punct)\n",
    "s_wo_punct"
   ]
  },
  {
   "cell_type": "markdown",
   "id": "2b2f58e3",
   "metadata": {},
   "source": [
    "#### Regular expression\n",
    "The second approach uses _regular expressions_ to find specific characters and then substitute those characters with an empty char. You are not limited to use string.punctuation but can define any char you want to be deleted from the string (see commented line in the code below)."
   ]
  },
  {
   "cell_type": "code",
   "execution_count": null,
   "id": "588075a0",
   "metadata": {},
   "outputs": [],
   "source": [
    "import re\n",
    "\n",
    "s_wo_punct2 = re.sub(\"[.,!?:;-='...\\\"@#_]\", \"\", s)\n",
    "s_wo_punct3 = re.sub(f\"[{string.punctuation}]\", \"\", s)\n",
    "\n",
    "print(s_wo_punct2)\n",
    "print(s_wo_punct3)"
   ]
  },
  {
   "cell_type": "markdown",
   "id": "cbfa6aba",
   "metadata": {},
   "source": [
    "### Lower case\n",
    "Transform the text to lowercase."
   ]
  },
  {
   "cell_type": "code",
   "execution_count": null,
   "id": "bf3c861a",
   "metadata": {},
   "outputs": [],
   "source": [
    "s_wo_punct_lower = s_wo_punct.lower()\n",
    "s_wo_punct_lower"
   ]
  },
  {
   "cell_type": "markdown",
   "id": "1acb8818",
   "metadata": {},
   "source": [
    "### Remove stopwords\n",
    "As text classification does not usually rely on a deep understanding of the underlying text, the added value of pronouns, articles and prepositions oftentimes diminishes for these kind of tasks. They are thus entirely removed from the text corpus to reduce the dimensionality of the input data.  \n",
    "We use the python NLP package __NLTK__ which requires you to download the stopwords if you use it for the first time. Subsequent usage of the package will not require you to refetch these files every time. The stopwords are designed for different languages as can be seen in the code below."
   ]
  },
  {
   "cell_type": "code",
   "execution_count": null,
   "id": "9e35e877",
   "metadata": {},
   "outputs": [],
   "source": [
    "# You have to download stopwords Package to execute this command\n",
    "import nltk\n",
    "from nltk.corpus import stopwords\n",
    "\n",
    "nltk.download('stopwords')\n",
    "\n",
    "print(stopwords.words('german'))\n",
    "print(stopwords.words('english'))"
   ]
  },
  {
   "cell_type": "code",
   "execution_count": null,
   "id": "3542b95d",
   "metadata": {},
   "outputs": [],
   "source": [
    "s_wo_punct_lower_nosw = \" \".join([w for w in s_wo_punct_lower.split() if w not in stopwords.words(\"english\")])\n",
    "\n",
    "s_wo_punct_lower_nosw"
   ]
  },
  {
   "cell_type": "markdown",
   "id": "904862f3",
   "metadata": {},
   "source": [
    "### Count Vectorizer\n",
    "A _Count Vectorizer_ is used to generate a representation of the underlying text in terms of the frequency of all words in the corpus. These features (__X__ in this case) can then be used to train a classifier."
   ]
  },
  {
   "cell_type": "code",
   "execution_count": null,
   "id": "9c0ebb52",
   "metadata": {},
   "outputs": [],
   "source": [
    "from sklearn.feature_extraction.text import CountVectorizer\n",
    "\n",
    "sample_data = ['This is the fourth exercise.','This exercise is not online yet','Exercise four is boring, I want another exercise','Is this the first exercise?']\n",
    "\n",
    "vectorizer = CountVectorizer()\n",
    "X = vectorizer.fit_transform(sample_data)\n",
    "\n",
    "print(vectorizer.get_feature_names_out())"
   ]
  },
  {
   "cell_type": "markdown",
   "id": "f72d8280",
   "metadata": {},
   "source": [
    "Here the transformed input gets stored into a dataframe. _X_ could also directly be used for training purposes (via model.fit(X))."
   ]
  },
  {
   "cell_type": "code",
   "execution_count": null,
   "id": "39183386",
   "metadata": {},
   "outputs": [],
   "source": [
    "print(X.toarray())\n",
    "\n",
    "df2 = pd.DataFrame(X.toarray(),columns=vectorizer.get_feature_names_out())\n",
    "df2"
   ]
  },
  {
   "cell_type": "markdown",
   "id": "120279ea",
   "metadata": {},
   "source": [
    "### Naive Bayes classifier\n",
    "In order to use the classifier you first need to import it. There are three different variants preimplemented by sklearn, namely the _MultinomialNB_ which is used for the classification of text data, the _CategoricalNB_ which handles categorical data and the _GaussianNB_ for continuous features. In this exercise you will get to apply the two former types."
   ]
  },
  {
   "cell_type": "code",
   "execution_count": null,
   "id": "7e7880ac",
   "metadata": {},
   "outputs": [],
   "source": [
    "from sklearn.naive_bayes import MultinomialNB, CategoricalNB\n",
    "\n",
    "naive_bayes = MultinomialNB()\n",
    "\n",
    "naive_bayes.fit(X,[0,0,0,1])"
   ]
  },
  {
   "cell_type": "markdown",
   "id": "cc116988",
   "metadata": {},
   "source": [
    "## Task 2\n",
    "As written in the accompanying PDF, please download the spam dataset (\"emails.csv\") from __[here](https://github.com/DataScienceLabFHSWF/machine-learning-book/tree/main/data/naive_bayes)__ and load it into a pandas Dataframe. Get familiar with the dataset. "
   ]
  },
  {
   "cell_type": "code",
   "execution_count": null,
   "id": "36ee19ac",
   "metadata": {},
   "outputs": [],
   "source": []
  },
  {
   "cell_type": "code",
   "execution_count": null,
   "id": "33075f3c",
   "metadata": {},
   "outputs": [],
   "source": [
    "\n"
   ]
  },
  {
   "cell_type": "markdown",
   "id": "508d15fe",
   "metadata": {},
   "source": [
    "### Visualization\n",
    "Visualize different aspects of the dataset (e.g. class distribution, text length of the different entries) by using matplotlib or seaborn. The text length of each sample should be stored in an extra column called _length_."
   ]
  },
  {
   "cell_type": "code",
   "execution_count": null,
   "id": "8f66b950",
   "metadata": {},
   "outputs": [],
   "source": []
  },
  {
   "cell_type": "markdown",
   "id": "40f722b6",
   "metadata": {},
   "source": [
    "Get length for each text sample and store them in column _length_ of the dataframe."
   ]
  },
  {
   "cell_type": "code",
   "execution_count": null,
   "id": "704028c8",
   "metadata": {},
   "outputs": [],
   "source": []
  },
  {
   "cell_type": "code",
   "execution_count": null,
   "id": "860201af",
   "metadata": {},
   "outputs": [],
   "source": []
  },
  {
   "cell_type": "markdown",
   "id": "bb0eef61",
   "metadata": {},
   "source": [
    "Plot the distribution of lengths for _spam_ and _non-spam_ samples."
   ]
  },
  {
   "cell_type": "code",
   "execution_count": null,
   "id": "e96ddf57",
   "metadata": {},
   "outputs": [],
   "source": []
  },
  {
   "cell_type": "markdown",
   "id": "c467b870",
   "metadata": {},
   "source": [
    "Display the shortest (and longest) message that are stored in this dataframe."
   ]
  },
  {
   "cell_type": "code",
   "execution_count": null,
   "id": "5865cb58",
   "metadata": {},
   "outputs": [],
   "source": []
  },
  {
   "cell_type": "markdown",
   "id": "790750c1",
   "metadata": {},
   "source": [
    "Visualize the most frequent words (for spam and non-spam texts) with the help of the package _wordcloud_. Do you notice any meaningful differences between these two wordclouds? What is the problem with some of the frequent words (for both cases) and how would you rate the added value of these problematic words when it comes to actually training a classifier?"
   ]
  },
  {
   "cell_type": "code",
   "execution_count": null,
   "id": "0eec117f",
   "metadata": {},
   "outputs": [],
   "source": []
  },
  {
   "cell_type": "markdown",
   "id": "b47d9299",
   "metadata": {},
   "source": [
    "Calculate the class distribution between spam and non-spam data in percent and then use a barplot (or countplot if you use seaborn) to present it visually."
   ]
  },
  {
   "cell_type": "code",
   "execution_count": null,
   "id": "588b8ca1",
   "metadata": {},
   "outputs": [],
   "source": []
  },
  {
   "cell_type": "markdown",
   "id": "bd9d5824",
   "metadata": {},
   "source": [
    "### Preprocess dataset\n",
    "Define your functions for text cleaning here and then preprocess the text. "
   ]
  },
  {
   "cell_type": "code",
   "execution_count": null,
   "id": "6994d700",
   "metadata": {},
   "outputs": [],
   "source": []
  },
  {
   "cell_type": "code",
   "execution_count": null,
   "id": "a3170eeb",
   "metadata": {},
   "outputs": [],
   "source": []
  },
  {
   "cell_type": "markdown",
   "id": "4e710fc4",
   "metadata": {},
   "source": [
    "Now that we have cleaned our sample texts we can use the dataset to perform the training and test procedure. Use the _CountVectorizer_ to generate the features. "
   ]
  },
  {
   "cell_type": "code",
   "execution_count": null,
   "id": "dee0ade8",
   "metadata": {},
   "outputs": [],
   "source": []
  },
  {
   "cell_type": "code",
   "execution_count": null,
   "id": "82abf434",
   "metadata": {},
   "outputs": [],
   "source": []
  },
  {
   "cell_type": "markdown",
   "id": "fde3fb0d",
   "metadata": {},
   "source": [
    "### Training\n",
    "As we are dealing with features generated from text data, we use the _sklearn.naive_bayes.MultinomialNB_ as our underlying model."
   ]
  },
  {
   "cell_type": "code",
   "execution_count": null,
   "id": "1aaf7e23",
   "metadata": {},
   "outputs": [],
   "source": []
  },
  {
   "cell_type": "markdown",
   "id": "05791d8c",
   "metadata": {},
   "source": [
    "Performance on test dataset:"
   ]
  },
  {
   "cell_type": "code",
   "execution_count": null,
   "id": "3d70ca26",
   "metadata": {},
   "outputs": [],
   "source": []
  },
  {
   "cell_type": "markdown",
   "id": "4c3e6464",
   "metadata": {},
   "source": [
    "Performance on own text samples:"
   ]
  },
  {
   "cell_type": "code",
   "execution_count": null,
   "id": "9a7d7fa6",
   "metadata": {},
   "outputs": [],
   "source": []
  },
  {
   "cell_type": "code",
   "execution_count": null,
   "id": "766e9b8d",
   "metadata": {},
   "outputs": [],
   "source": []
  },
  {
   "cell_type": "markdown",
   "id": "e826ab36",
   "metadata": {},
   "source": [
    "### Evaluation"
   ]
  },
  {
   "cell_type": "code",
   "execution_count": null,
   "id": "82add85c",
   "metadata": {},
   "outputs": [],
   "source": []
  },
  {
   "cell_type": "code",
   "execution_count": null,
   "id": "197c77f2",
   "metadata": {},
   "outputs": [],
   "source": []
  },
  {
   "cell_type": "markdown",
   "id": "505efd98",
   "metadata": {},
   "source": [
    "## Task 3\n",
    "In this task we will analyze the \"flu.csv\" dataset which can be downloaded __[here](https://github.com/DataScienceLabFHSWF/machine-learning-book/tree/main/data/naive_bayes)__. It is a very small toy dataset to showcase the encoding of categorical features as well as the usage of another variant of the Naive Bayes classifier.\n",
    "\n",
    "### Preprocessing\n",
    "Get familiar with the dataset. The goal is to predict whether or not a person has the flu.  \n",
    "What are the feature columns and what is the target column in this example?"
   ]
  },
  {
   "cell_type": "code",
   "execution_count": null,
   "id": "483202da",
   "metadata": {},
   "outputs": [],
   "source": []
  },
  {
   "cell_type": "markdown",
   "id": "df82e807",
   "metadata": {},
   "source": [
    "Use the LabelEncoder (sklearn.preprocessing.LabelEncoder()) to encode the data in the columns."
   ]
  },
  {
   "cell_type": "code",
   "execution_count": null,
   "id": "0336513b",
   "metadata": {},
   "outputs": [],
   "source": []
  },
  {
   "cell_type": "markdown",
   "id": "f8343d2a",
   "metadata": {},
   "source": [
    "Now use the encoded features (f1 to f4) to build a new dataframe for the training of our classifier, the _zip()_ function might be useful here."
   ]
  },
  {
   "cell_type": "code",
   "execution_count": null,
   "id": "c5701065",
   "metadata": {},
   "outputs": [],
   "source": []
  },
  {
   "cell_type": "markdown",
   "id": "b2a513a5",
   "metadata": {},
   "source": [
    "### Training\n",
    "We do not use the _MultinomialNB_ but instead _sklearn.naive_bayes.CategoricalNB_ as we have to deal with categorical data here."
   ]
  },
  {
   "cell_type": "code",
   "execution_count": null,
   "id": "a925d439",
   "metadata": {},
   "outputs": [],
   "source": []
  },
  {
   "cell_type": "markdown",
   "id": "558fc000",
   "metadata": {},
   "source": [
    "Generate a few input samples to feed into the classifier and print the predictions as well as the predicted probabilities for each target class (_model.predict_proba()_)."
   ]
  },
  {
   "cell_type": "code",
   "execution_count": null,
   "id": "788989b2",
   "metadata": {},
   "outputs": [],
   "source": []
  }
 ],
 "metadata": {
  "kernelspec": {
   "display_name": "Python 3.10.4 ('airflow')",
   "language": "python",
   "name": "python3"
  },
  "language_info": {
   "codemirror_mode": {
    "name": "ipython",
    "version": 3
   },
   "file_extension": ".py",
   "mimetype": "text/x-python",
   "name": "python",
   "nbconvert_exporter": "python",
   "pygments_lexer": "ipython3",
   "version": "3.10.4"
  },
  "vscode": {
   "interpreter": {
    "hash": "568ce6a90abe48cd4c71813e2e18d608b5934a77a079188d46a97b4cb4032653"
   }
  }
 },
 "nbformat": 4,
 "nbformat_minor": 5
}
