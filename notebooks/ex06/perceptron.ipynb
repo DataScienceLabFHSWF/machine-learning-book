{
 "cells": [
  {
   "attachments": {},
   "cell_type": "markdown",
   "metadata": {},
   "source": [
    "# Perceptron"
   ]
  },
  {
   "attachments": {},
   "cell_type": "markdown",
   "metadata": {},
   "source": [
    "## Task 3\n",
    "This task is split into two parts, first you have to implement a _perceptron_ that is capable of handling two input neurons and use it to verify your manually calculated results from the previous task.  \n",
    "In _b)_ your implementation has to be modified so that it allows for the perceptron to deal with an arbitrary amount of inputs.  \n",
    "You do not necessarily have to implement the simpler version first, you can also directly skip to part _b)_ and run the verifications from _a)_ on the more complex model if you like to.\n",
    "### a)\n",
    "In this task you have to implement a _perceptron_ from scratch without using any frameworks like tensorflow or pytorch but you can use packages like _numpy_, _sklearn_ etc. Your implementation should provide the following methods:\n",
    "- init()\n",
    "- fit()\n",
    "- predict()\n",
    "- evaluate()\n",
    "\n",
    "Make sure to output all the relevant values during each step to be able to compare it to your own calculations.\n",
    "Additionally it should print out the epoch number, accuracy and further parameters of your choice after each training epoch.\n",
    " \n",
    "  \n",
    "  \n",
    "\n",
    "\n"
   ]
  },
  {
   "attachments": {},
   "cell_type": "markdown",
   "metadata": {},
   "source": [
    "#### Implementation as class\n",
    "Imports here:"
   ]
  },
  {
   "cell_type": "code",
   "execution_count": null,
   "metadata": {},
   "outputs": [],
   "source": []
  },
  {
   "attachments": {},
   "cell_type": "markdown",
   "metadata": {},
   "source": [
    "Implement your class representing the perceptron and all of its previously mentioned methods here:  "
   ]
  },
  {
   "cell_type": "code",
   "execution_count": null,
   "metadata": {},
   "outputs": [],
   "source": []
  },
  {
   "attachments": {},
   "cell_type": "markdown",
   "metadata": {},
   "source": [
    "Now test your perceptron with the same initial values as used for your manual calculations, once for AND and XOR each. Do you get the same results? \n",
    "Play around with the number of epochs. How many do you need in both of the models to reach an accuracy of 1?"
   ]
  },
  {
   "attachments": {},
   "cell_type": "markdown",
   "metadata": {},
   "source": [
    "AND:"
   ]
  },
  {
   "cell_type": "code",
   "execution_count": null,
   "metadata": {},
   "outputs": [],
   "source": []
  },
  {
   "attachments": {},
   "cell_type": "markdown",
   "metadata": {},
   "source": [
    "XOR:"
   ]
  },
  {
   "cell_type": "code",
   "execution_count": null,
   "metadata": {},
   "outputs": [],
   "source": []
  },
  {
   "attachments": {},
   "cell_type": "markdown",
   "metadata": {},
   "source": [
    "### b)\n",
    "In this subtask you first have to implement an improved version of your _perceptron_ from _a)_ and then generate data to test its functionality. At the end you will use the data to compare the impact of different learning rates on convergence and plot series.  \n",
    "In the following code block you should implement your improved _perceptron_:"
   ]
  },
  {
   "cell_type": "code",
   "execution_count": null,
   "metadata": {},
   "outputs": [],
   "source": []
  },
  {
   "attachments": {},
   "cell_type": "markdown",
   "metadata": {},
   "source": [
    "Implement tests here by utilizing a package called _itertools_ to generate _AND_, _OR_ or _XOR_ tables with arbitrary amounts of bits and then use these to feed them into the modified perceptron. An example of its usage for this particular case is shown below:"
   ]
  },
  {
   "cell_type": "code",
   "execution_count": 3,
   "metadata": {},
   "outputs": [
    {
     "data": {
      "text/plain": [
       "[[0, 0, 0],\n",
       " [0, 0, 1],\n",
       " [0, 1, 0],\n",
       " [0, 1, 1],\n",
       " [1, 0, 0],\n",
       " [1, 0, 1],\n",
       " [1, 1, 0],\n",
       " [1, 1, 1]]"
      ]
     },
     "execution_count": 3,
     "metadata": {},
     "output_type": "execute_result"
    }
   ],
   "source": [
    "import itertools\n",
    "\n",
    "[[int(p) for p in perm] for perm in itertools.product(\"01\", repeat=3)]"
   ]
  },
  {
   "attachments": {},
   "cell_type": "markdown",
   "metadata": {},
   "source": [
    "Now try it out for yourself and test if your model can handle an arbitrary number of inputs. "
   ]
  },
  {
   "cell_type": "code",
   "execution_count": null,
   "metadata": {},
   "outputs": [],
   "source": []
  },
  {
   "attachments": {},
   "cell_type": "markdown",
   "metadata": {},
   "source": [
    "Use different learning rates ([0.01,0.1,0.5,1,2]) on your generated _AND_ and _XOR_ data and plot the accuracies against the epoch number, one plot each for _AND_ and _XOR_. Do bigger numbers necessarily lead to faster convergence or guarantee convergence at all? "
   ]
  },
  {
   "cell_type": "code",
   "execution_count": null,
   "metadata": {},
   "outputs": [],
   "source": []
  }
 ],
 "metadata": {
  "kernelspec": {
   "display_name": "Python 3.10.4 ('airflow')",
   "language": "python",
   "name": "python3"
  },
  "language_info": {
   "codemirror_mode": {
    "name": "ipython",
    "version": 3
   },
   "file_extension": ".py",
   "mimetype": "text/x-python",
   "name": "python",
   "nbconvert_exporter": "python",
   "pygments_lexer": "ipython3",
   "version": "3.10.4"
  },
  "orig_nbformat": 4,
  "vscode": {
   "interpreter": {
    "hash": "568ce6a90abe48cd4c71813e2e18d608b5934a77a079188d46a97b4cb4032653"
   }
  }
 },
 "nbformat": 4,
 "nbformat_minor": 2
}
