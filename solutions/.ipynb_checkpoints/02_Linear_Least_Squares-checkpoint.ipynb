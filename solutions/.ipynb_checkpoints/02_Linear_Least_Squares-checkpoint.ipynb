{
 "cells": [
  {
   "cell_type": "code",
   "execution_count": 16,
   "id": "5654689d",
   "metadata": {},
   "outputs": [],
   "source": [
    "import numpy as np\n",
    "import matplotlib.pyplot as plt"
   ]
  },
  {
   "cell_type": "code",
   "execution_count": 17,
   "id": "7d1a2c35",
   "metadata": {},
   "outputs": [],
   "source": [
    "class linleastsquares():\n",
    "   \n",
    "    def __init__(self, functionlist):\n",
    "        \n",
    "        '''\n",
    "        Initiate the object with the wanted list of functions\n",
    "        '''\n",
    "        self.functionlist=functionlist\n",
    "        \n",
    "    \n",
    "    def fit(self, x_values, y_values, y_errors, print_matrix=False):\n",
    "        \n",
    "        \"\"\"\n",
    "        Calculate the parameters for the linear leastsquares model\n",
    "        of functions provided as argumen functionlist for the x_values\n",
    "        and y_values with errors y_errors\n",
    "        \"\"\"        \n",
    "        # set dimension of the designmatrix\n",
    "        dim = (len(x_values), len(self.functionlist))\n",
    "        A = np.zeros(dim)\n",
    "\n",
    "        # fill design matrix with function values\n",
    "        for i, func in enumerate(self.functionlist):\n",
    "            A[:,i] = func(x_values)\n",
    "        #cast to np.matrix type\n",
    "        A = np.matrix(A)\n",
    "\n",
    "        if print_matrix is True:\n",
    "            print(A)\n",
    "            \n",
    "        # cast y-values into a column vector\n",
    "        y = np.matrix(y_values).T\n",
    "        \n",
    "        # create diagonal weighting matrix\n",
    "        W = np.matrix(np.diag(1/(y_errors**2)))\n",
    "\n",
    "        # do the calculations weighted LinSquares\n",
    "        invATA = (A.T * W * A).I\n",
    "        params = invATA * A.T * W * y\n",
    "        cov = invATA\n",
    "\n",
    "        return np.array(params.flat), cov"
   ]
  },
  {
   "cell_type": "code",
   "execution_count": 34,
   "id": "e2185a8f",
   "metadata": {},
   "outputs": [],
   "source": [
    "def linear(x):\n",
    "    return x\n",
    "def const(x):\n",
    "    return 1"
   ]
  },
  {
   "cell_type": "code",
   "execution_count": 35,
   "id": "9a6e3101",
   "metadata": {},
   "outputs": [
    {
     "name": "stdout",
     "output_type": "stream",
     "text": [
      "[[1.47 1.  ]\n",
      " [1.5  1.  ]\n",
      " [1.52 1.  ]\n",
      " [1.55 1.  ]\n",
      " [1.57 1.  ]\n",
      " [1.6  1.  ]\n",
      " [1.63 1.  ]\n",
      " [1.65 1.  ]\n",
      " [1.68 1.  ]\n",
      " [1.7  1.  ]\n",
      " [1.73 1.  ]\n",
      " [1.75 1.  ]\n",
      " [1.78 1.  ]\n",
      " [1.8  1.  ]\n",
      " [1.83 1.  ]]\n"
     ]
    }
   ],
   "source": [
    "# read data\n",
    "# maybe get different data -> different fit functions\n",
    "x = [1.47,1.50 ,1.52,1.55 ,1.57, 1.60,1.63,1.65,1.68,1.70,1.73,1.75,1.78,1.80,1.83]\n",
    "y = [52.21,53.12,54.48,55.84,57.20,58.57,59.93,61.29,63.11,64.47,66.28,68.10,69.92,72.19,74.46]\n",
    "y_err = np.ones(len(y))\n",
    "\n",
    "# linear leastsquares fit \n",
    "llsq = linleastsquares([linear, const])\n",
    "\n",
    "(a, b), cov_ab = llsq.fit(x, y, y_err, True)\n"
   ]
  },
  {
   "cell_type": "code",
   "execution_count": 36,
   "id": "63d3298b",
   "metadata": {},
   "outputs": [
    {
     "name": "stdout",
     "output_type": "stream",
     "text": [
      "61.272186542107505 -39.061955918838834\n",
      "[[ 5.47365348 -9.03517735]\n",
      " [-9.03517735 14.98073274]]\n"
     ]
    },
    {
     "data": {
      "text/plain": [
       "[<matplotlib.lines.Line2D at 0x7f0eab1c62b0>]"
      ]
     },
     "execution_count": 36,
     "metadata": {},
     "output_type": "execute_result"
    },
    {
     "data": {
      "image/png": "[encoded data removed]",
      "text/plain": [
       "<Figure size 432x288 with 1 Axes>"
      ]
     },
     "metadata": {
      "needs_background": "light"
     },
     "output_type": "display_data"
    }
   ],
   "source": [
    "plt.errorbar(x,y,yerr=y_err, fmt='x')\n",
    "print(a, b)\n",
    "print(cov_ab)\n",
    "xx =np.linspace(1.4,2,100)\n",
    "plt.plot(xx, a*xx+b)"
   ]
  },
  {
   "cell_type": "code",
   "execution_count": null,
   "id": "e92ad9b4",
   "metadata": {},
   "outputs": [],
   "source": []
  }
 ],
 "metadata": {
  "kernelspec": {
   "display_name": "Python 3",
   "language": "python",
   "name": "python3"
  },
  "language_info": {
   "codemirror_mode": {
    "name": "ipython",
    "version": 3
   },
   "file_extension": ".py",
   "mimetype": "text/x-python",
   "name": "python",
   "nbconvert_exporter": "python",
   "pygments_lexer": "ipython3",
   "version": "3.8.8"
  }
 },
 "nbformat": 4,
 "nbformat_minor": 5
}
