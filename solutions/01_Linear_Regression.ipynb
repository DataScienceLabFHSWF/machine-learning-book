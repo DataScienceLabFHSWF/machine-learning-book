{
 "cells": [
  {
   "cell_type": "markdown",
   "id": "b7f894c2",
   "metadata": {},
   "source": [
    "### Import  modules\n",
    "- numpy\n",
    "- linear regression model from sklearn\n",
    "- matplotlib\n",
    "- scipy.optimize.curve_fit\n"
   ]
  },
  {
   "cell_type": "code",
   "execution_count": 1,
   "id": "2ab3bcc6",
   "metadata": {},
   "outputs": [],
   "source": [
    "import numpy as np\n",
    "from sklearn.linear_model import LinearRegression\n",
    "import matplotlib.pyplot as plt\n",
    "from scipy.optimize import curve_fit"
   ]
  },
  {
   "cell_type": "markdown",
   "id": "83bb50da",
   "metadata": {},
   "source": [
    "Generate data"
   ]
  },
  {
   "cell_type": "code",
   "execution_count": 2,
   "id": "edbb0a79",
   "metadata": {},
   "outputs": [],
   "source": [
    "X = np.linspace(1,50, 30)\n",
    "y = 2*X-3.5\n",
    "noise = 7*np.random.random(30)\n",
    "y = y + noise\n",
    "data = np.array([X,y]).T\n",
    "np.savetxt(\"../data/regression/simple_regression.csv\", data, delimiter=\",\")"
   ]
  },
  {
   "cell_type": "markdown",
   "id": "c09855c1",
   "metadata": {},
   "source": [
    "#### Data import\n",
    "- use numpy to read the csv file\n",
    "- reshape it so it can be used by sklearn (univariate regression is not default)"
   ]
  },
  {
   "cell_type": "code",
   "execution_count": 3,
   "id": "e4810056",
   "metadata": {},
   "outputs": [],
   "source": [
    "data = np.genfromtxt('../data/regression/simple_regression.csv', delimiter=',')\n"
   ]
  },
  {
   "cell_type": "markdown",
   "id": "837c5f35",
   "metadata": {},
   "source": [
    "Fit a Linear regression model to the data"
   ]
  },
  {
   "cell_type": "code",
   "execution_count": 4,
   "id": "8afed56e",
   "metadata": {},
   "outputs": [
    {
     "name": "stdout",
     "output_type": "stream",
     "text": [
      "R²= 0.9958\n",
      "Coefficients: m = [1.99389987], b=0.44910895695167596\n"
     ]
    }
   ],
   "source": [
    "X = data[:,0].reshape(-1,1)\n",
    "y = data[:,1].reshape(-1,1)\n",
    "reg = LinearRegression().fit(X, y)\n",
    "print('R²= '+str(round(reg.score(X, y), 4)))\n",
    "print('Coefficients: m = {}, b={}'.format(*reg.coef_, *reg.intercept_))"
   ]
  },
  {
   "cell_type": "markdown",
   "id": "40b179fe",
   "metadata": {},
   "source": [
    "make the prediction with the calculated model"
   ]
  },
  {
   "cell_type": "code",
   "execution_count": 5,
   "id": "3264fa67",
   "metadata": {},
   "outputs": [],
   "source": [
    "xx = np.linspace(-1, 55, 200).reshape(-1,1)\n",
    "yy = reg.predict(xx)"
   ]
  },
  {
   "cell_type": "code",
   "execution_count": 6,
   "id": "ab494019",
   "metadata": {},
   "outputs": [
    {
     "data": {
      "text/plain": [
       "<matplotlib.legend.Legend at 0x7fd192767d60>"
      ]
     },
     "execution_count": 6,
     "metadata": {},
     "output_type": "execute_result"
    },
    {
     "data": {
      "image/png": "[encoded data removed]",
      "text/plain": [
       "<Figure size 432x288 with 1 Axes>"
      ]
     },
     "metadata": {
      "needs_background": "light"
     },
     "output_type": "display_data"
    }
   ],
   "source": [
    "plt.plot(X,y, 'x', label='data')\n",
    "plt.plot(xx,yy, label='fit' )\n",
    "plt.xlabel('X')\n",
    "plt.ylabel('y')\n",
    "plt.legend(loc='upper left')"
   ]
  },
  {
   "cell_type": "markdown",
   "id": "035b1291",
   "metadata": {},
   "source": [
    "### A different approach\n",
    "- define a function that models the data\n",
    "- use scipy curve_fit to fit the model to data"
   ]
  },
  {
   "cell_type": "code",
   "execution_count": 7,
   "id": "aa17ec87",
   "metadata": {},
   "outputs": [],
   "source": [
    "def linear(x, m, b):\n",
    "    return m*x + b"
   ]
  },
  {
   "cell_type": "code",
   "execution_count": 8,
   "id": "5fc78602",
   "metadata": {},
   "outputs": [
    {
     "name": "stdout",
     "output_type": "stream",
     "text": [
      "Coefficients: m = 1.9939, b = 0.4491\n",
      "Covariance Matrix :\n",
      "[[ 0.00059771 -0.0152415 ]\n",
      " [-0.0152415   0.51649668]]\n",
      "Coefficients with uncertainties:\n",
      "m = 1.99 +- 0.02, b = 0.4 +- 0.7\n"
     ]
    }
   ],
   "source": [
    "X = data[:,0]\n",
    "y = data[:,1]\n",
    "params, cov = curve_fit(linear, X, y)\n",
    "print('Coefficients: m = {:.4f}, b = {:.4f}'.format(*params))\n",
    "print('Covariance Matrix :')\n",
    "print(cov)\n",
    "print('Coefficients with uncertainties:')\n",
    "print('m = {:.2f} +- {:.2f}, b = {:.1f} +- {:.1f}'.format(params[0], np.sqrt(cov[0][0]), params[1], np.sqrt(cov[1][1])))"
   ]
  },
  {
   "cell_type": "code",
   "execution_count": 10,
   "id": "ca4f4c32",
   "metadata": {},
   "outputs": [
    {
     "data": {
      "text/plain": [
       "<matplotlib.legend.Legend at 0x7fc167ae2dc0>"
      ]
     },
     "execution_count": 10,
     "metadata": {},
     "output_type": "execute_result"
    },
    {
     "data": {
      "image/png": "[encoded data removed]",
      "text/plain": [
       "<Figure size 432x288 with 1 Axes>"
      ]
     },
     "metadata": {
      "needs_background": "light"
     },
     "output_type": "display_data"
    }
   ],
   "source": [
    "plt.plot(X, y, 'x', label='data')\n",
    "plt.plot(xx, linear(xx,*params), label='fit' )\n",
    "plt.xlabel('X')\n",
    "plt.ylabel('y')\n",
    "plt.legend(loc='upper left')"
   ]
  },
  {
   "cell_type": "code",
   "execution_count": null,
   "id": "77d309a1",
   "metadata": {},
   "outputs": [],
   "source": []
  }
 ],
 "metadata": {
  "kernelspec": {
   "display_name": "Python 3",
   "language": "python",
   "name": "python3"
  },
  "language_info": {
   "codemirror_mode": {
    "name": "ipython",
    "version": 3
   },
   "file_extension": ".py",
   "mimetype": "text/x-python",
   "name": "python",
   "nbconvert_exporter": "python",
   "pygments_lexer": "ipython3",
   "version": "3.8.8"
  }
 },
 "nbformat": 4,
 "nbformat_minor": 5
}
