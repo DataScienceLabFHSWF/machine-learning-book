{
 "cells": [
  {
   "cell_type": "markdown",
   "metadata": {},
   "source": [
    "## Bias-variance decomposition for classification and regression losses"
   ]
  },
  {
   "cell_type": "markdown",
   "metadata": {},
   "source": [
    "The goal for any machine learning model is to estimate a mapping function $f(x)$ based on the training data.\n",
    "Prediction errors can be divided into three types:\n",
    "\n",
    "* Bias error\n",
    "* Deviation error\n",
    "* Irreducible error\n",
    "\n",
    "We will address the bias and variance error. Because we can influence them.\n",
    "\n",
    "1) Bias error $\\\\$\n",
    "Bias are the simplifying assumptions made by a model to make the objective function easier to learn.\n",
    "\n",
    "2) Deviation error $\\\\$\n",
    "The variance is the amount by which the estimate of the objective function changes when different training data are used.\n",
    "\n",
    "\n"
   ]
  },
  {
   "cell_type": "markdown",
   "metadata": {},
   "source": [
    "## what does that mean?\n",
    "It means ML algorithms struggle to achieve low variance and low base with good estimate. But it turns out that's not possible.\n",
    "In machine learning, there is no getting around the relationship between bias and variance.\n",
    "\n",
    "* Increasing the bias reduces the variance.\n",
    "* Increasing the variance decreases the distortion.\n",
    "\n",
    "we might say that \"high variance\" is proportional to overfitting, and \"high bias\" is proportional to underfitting.\n",
    "\n",
    "Bias and variance provide a framework to understand the behavior of machine learning algorithms when striving for best performance."
   ]
  },
  {
   "cell_type": "markdown",
   "metadata": {},
   "source": [
    "### Bias Variance Decomposition of a Decision Tree Classifier digits dataset\n"
   ]
  },
  {
   "cell_type": "code",
   "execution_count": 3,
   "metadata": {},
   "outputs": [],
   "source": [
    "from mlxtend.evaluate import bias_variance_decomp\n",
    "from sklearn.tree import DecisionTreeClassifier\n",
    "from sklearn import datasets, metrics\n",
    "from sklearn.model_selection import train_test_split"
   ]
  },
  {
   "cell_type": "markdown",
   "metadata": {},
   "source": [
    "## Exercise 1:"
   ]
  },
  {
   "cell_type": "markdown",
   "metadata": {},
   "source": [
    "* 1.1 Load Sklearn's load_digits and perform the necessary preprocessing steps to perform a multiclass classification."
   ]
  },
  {
   "cell_type": "code",
   "execution_count": 8,
   "metadata": {},
   "outputs": [
    {
     "name": "stdout",
     "output_type": "stream",
     "text": [
      "(1797, 64)\n"
     ]
    }
   ],
   "source": [
    "# your code \n",
    "\n",
    "\n",
    "print(digits.data.shape)"
   ]
  },
  {
   "cell_type": "markdown",
   "metadata": {},
   "source": [
    "* 1.2  visualize the 5th image:"
   ]
  },
  {
   "cell_type": "code",
   "execution_count": 6,
   "metadata": {},
   "outputs": [
    {
     "data": {
      "text/plain": [
       "<matplotlib.image.AxesImage at 0x7f88331d7280>"
      ]
     },
     "execution_count": 6,
     "metadata": {},
     "output_type": "execute_result"
    },
    {
     "data": {
      "text/plain": [
       "<Figure size 432x288 with 0 Axes>"
      ]
     },
     "metadata": {},
     "output_type": "display_data"
    },
    {
     "data": {
      "image/png": "[encoded data removed]",
      "text/plain": [
       "<Figure size 288x288 with 1 Axes>"
      ]
     },
     "metadata": {
      "needs_background": "light"
     },
     "output_type": "display_data"
    }
   ],
   "source": [
    "#your code "
   ]
  },
  {
   "cell_type": "markdown",
   "metadata": {},
   "source": [
    "# Exersice 2"
   ]
  },
  {
   "cell_type": "markdown",
   "metadata": {},
   "source": [
    "* 2.1 Split your image dataset into random train and test subsets ()\n",
    "* 2.2 Call DecisionTreeClassifier object to start classification\n",
    "* 2.3 Use bias_variance_decomp to calculate average expected loss, average deviation, and average variance"
   ]
  },
  {
   "cell_type": "code",
   "execution_count": 15,
   "metadata": {},
   "outputs": [
    {
     "name": "stdout",
     "output_type": "stream",
     "text": [
      "Average expected loss: 0.272\n",
      "Average bias: 0.119\n",
      "Average variance: 0.240\n"
     ]
    }
   ],
   "source": [
    "# Enter your code here \n",
    "\n",
    "\n",
    "# 2.1 test_size=0.5 \n",
    "\n",
    "\n",
    "# 2.2 random_state=123\n",
    "\n",
    "\n",
    "\n",
    "print('Average expected loss: %.3f' % avg_expected_loss)\n",
    "print('Average bias: %.3f' % avg_bias)\n",
    "print('Average variance: %.3f' % avg_var)"
   ]
  },
  {
   "cell_type": "markdown",
   "metadata": {},
   "source": [
    "# Exersice 3\n",
    "\n",
    "* 3.1) For comparison, the bias-variance decomposition of a AdaBoostClassifier classifier:"
   ]
  },
  {
   "cell_type": "code",
   "execution_count": 17,
   "metadata": {},
   "outputs": [
    {
     "name": "stdout",
     "output_type": "stream",
     "text": [
      "Average expected loss: 0.271\n",
      "Average bias: 0.117\n",
      "Average variance: 0.239\n"
     ]
    }
   ],
   "source": [
    "\n",
    "\n",
    "\n",
    "# insert your code \n",
    "\n",
    "\n",
    "\n",
    "\n",
    "print('Average expected loss: %.3f' % avg_expected_loss)\n",
    "print('Average bias: %.3f' % avg_bias)\n",
    "print('Average variance: %.3f' % avg_var)"
   ]
  },
  {
   "cell_type": "markdown",
   "metadata": {},
   "source": [
    "* 3.2)  discuss your results:"
   ]
  },
  {
   "cell_type": "markdown",
   "metadata": {},
   "source": [
    "## Exersice 4\n",
    "##### Bias Variance Decomposition of a Decision Tree Regressor Iris Dataset"
   ]
  },
  {
   "cell_type": "markdown",
   "metadata": {},
   "source": [
    "* 4.1 Load the sklearn iris dataset and perform the necessary preprocessing steps to perform a multiclass classification. \n",
    "* 4.2 Do the same straps as in the previous exercises (spliting and compute average expected loss, average deviation, and average variance )\n",
    "* 4.3 For comparison, the bias-variance decomposition of a AdaBoostClassifier classifier and ddiscuss your results:"
   ]
  },
  {
   "cell_type": "code",
   "execution_count": 20,
   "metadata": {},
   "outputs": [
    {
     "name": "stdout",
     "output_type": "stream",
     "text": [
      "Average expected loss: 0.062\n",
      "Average bias: 0.022\n",
      "Average variance: 0.040\n"
     ]
    }
   ],
   "source": [
    "from mlxtend.data import iris_data\n",
    "\n",
    "\n",
    "\n",
    "##### insert the code ###### \n",
    "\n",
    "\n",
    "\n",
    "\n",
    "print('Average expected loss: %.3f' % avg_expected_loss)\n",
    "print('Average bias: %.3f' % avg_bias)\n",
    "print('Average variance: %.3f' % avg_var)"
   ]
  },
  {
   "cell_type": "markdown",
   "metadata": {},
   "source": [
    "For comparison, the bias-variance decomposition of a AdaBoostClassifier classifier, which should intuitively have a lower variance compared than a single decision tree:"
   ]
  },
  {
   "cell_type": "code",
   "execution_count": 22,
   "metadata": {},
   "outputs": [
    {
     "name": "stdout",
     "output_type": "stream",
     "text": [
      "Average expected loss: 0.061\n",
      "Average bias: 0.022\n",
      "Average variance: 0.039\n"
     ]
    }
   ],
   "source": [
    "from sklearn.ensemble import AdaBoostClassifier\n",
    "\n",
    "#####   insert your code #####\n",
    "\n",
    "print('Average expected loss: %.3f' % avg_expected_loss)\n",
    "print('Average bias: %.3f' % avg_bias)\n",
    "print('Average variance: %.3f' % avg_var)"
   ]
  }
 ],
 "metadata": {
  "anaconda-cloud": {},
  "kernelspec": {
   "display_name": "Python 3.8.2 ('TE_ML')",
   "language": "python",
   "name": "python3"
  },
  "language_info": {
   "codemirror_mode": {
    "name": "ipython",
    "version": 3
   },
   "file_extension": ".py",
   "mimetype": "text/x-python",
   "name": "python",
   "nbconvert_exporter": "python",
   "pygments_lexer": "ipython3",
   "version": "3.8.2"
  },
  "vscode": {
   "interpreter": {
    "hash": "e336ab4728a34975faba314a582e6eafe27b3de8d6dd941bb94346b224c90a63"
   }
  }
 },
 "nbformat": 4,
 "nbformat_minor": 0
}
